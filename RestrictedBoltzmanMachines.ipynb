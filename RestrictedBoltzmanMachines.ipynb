{
 "cells": [
  {
   "cell_type": "markdown",
   "metadata": {},
   "source": [
    "# Restricted Boltzmann Machines"
   ]
  },
  {
   "cell_type": "code",
   "execution_count": 9,
   "metadata": {},
   "outputs": [],
   "source": [
    "%matplotlib inline"
   ]
  },
  {
   "cell_type": "code",
   "execution_count": 15,
   "metadata": {},
   "outputs": [],
   "source": [
    "import numpy as np\n",
    "import matplotlib.pyplot as plt\n",
    "from CreateShiftingBars import CreateShiftingBars"
   ]
  },
  {
   "cell_type": "code",
   "execution_count": 16,
   "metadata": {},
   "outputs": [
    {
     "data": {
      "text/plain": [
       "array([1, 1, 1, 1])"
      ]
     },
     "execution_count": 16,
     "metadata": {},
     "output_type": "execute_result"
    }
   ],
   "source": [
    "def sigmoid(x):\n",
    "    return 1/(1 + np.exp(-x))\n",
    "\n",
    "class RestrictedBoltzmannMachine:\n",
    "    \n",
    "    def __init__(self, W, bv, bh):\n",
    "        self.W = W\n",
    "        self.bv = bv\n",
    "        self.bh = bh\n",
    "        \n",
    "        self.Nv, self.Nh = self.W.shape\n",
    "        self.v = np.zeros(self.Nv)\n",
    "        self.h = np.zeros(self.Nh)\n",
    "        \n",
    "    def set_visible(self, visible_state):\n",
    "        self.v = visible_state\n",
    "    \n",
    "    def set_hidden(self, hidden_state):\n",
    "        self.h = hidden_state\n",
    "        \n",
    "    def get_visible(self):\n",
    "        return self.v\n",
    "    \n",
    "    def get_hidden(self):\n",
    "        return self.h\n",
    "        \n",
    "    def energy(self):\n",
    "        return -np.dot(self.v, np.dot(self.W, self.h)) - np.dot(self.bh, self.h) \\\n",
    "                                                       - np.dot(self.bv, self.v)\n",
    "        \n",
    "    def update_visible(self):\n",
    "        activation = sigmoid(np.dot(self.W, self.h) + self.bh)\n",
    "        self.v = (np.random.random(self.Nv) < activation).astype(int)\n",
    "        \n",
    "    def update_hidden(self):\n",
    "        activation = sigmoid(np.dot(self.v, self.W) + self.bv)\n",
    "        self.h = (np.random.random(self.Nh) < activation).astype(int)\n",
    "        \n",
    "    def gibbs_sample(self, N=1):\n",
    "        for sample in range(N):\n",
    "            self.update_hidden()\n",
    "            self.update_visible()\n",
    "               \n",
    "        \n",
    "Nv = 4\n",
    "Nh = 4\n",
    "W = np.random.random((Nv, Nh))\n",
    "bv = np.random.random(Nv)\n",
    "bh = np.random.random(Nh)\n",
    "RBMtest = RestrictedBoltzmannMachine(W, bv, bh)\n",
    "RBMtest.gibbs_sample(10)\n",
    "RBMtest.get_visible()"
   ]
  },
  {
   "cell_type": "code",
   "execution_count": 18,
   "metadata": {},
   "outputs": [
    {
     "data": {
      "text/plain": [
       "array([[1., 1., 1., 0., 0.],\n",
       "       [0., 1., 1., 1., 0.],\n",
       "       [0., 0., 1., 1., 1.],\n",
       "       [1., 0., 0., 1., 1.],\n",
       "       [1., 1., 0., 0., 1.]])"
      ]
     },
     "execution_count": 18,
     "metadata": {},
     "output_type": "execute_result"
    }
   ],
   "source": [
    "CreateShiftingBars(5,3)"
   ]
  }
 ],
 "metadata": {
  "kernelspec": {
   "display_name": "Python 3",
   "language": "python",
   "name": "python3"
  },
  "language_info": {
   "codemirror_mode": {
    "name": "ipython",
    "version": 3
   },
   "file_extension": ".py",
   "mimetype": "text/x-python",
   "name": "python",
   "nbconvert_exporter": "python",
   "pygments_lexer": "ipython3",
   "version": "3.6.6"
  }
 },
 "nbformat": 4,
 "nbformat_minor": 2
}
